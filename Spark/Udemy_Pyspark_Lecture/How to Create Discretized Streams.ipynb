{
 "cells": [
  {
   "cell_type": "markdown",
   "metadata": {},
   "source": [
    "## How to create DStreams?\n",
    "\n",
    "Now there're many different ways to make DStreams, but fundamentally every DStream, except for the file sream, is associated with a receiver. A reciver is the object that receives data from the source and stores it in Spark memory for processing. \n",
    "\n",
    "Some of these receivers are available directly from Sparks Streaming context API such as file systems and TCP socket connections of RDD. Other receivers that may require other dependencies including Kafka, Flume.\n",
    "\n",
    "Note when specifying the number of cores that you're using with Spark it's always important to use more than one. \n",
    "\n",
    "So for the receiver available from the streaming context API, we would approach this by importing 'StreamingContext', which is the prerequesite for all Spark's streaming functionality and creating a local StreamingContext with 10 execution threads for example and a batch interval with the specified number of seconds."
   ]
  },
  {
   "cell_type": "markdown",
   "metadata": {},
   "source": [
    "### Example : Twitter as a DStream Source."
   ]
  },
  {
   "cell_type": "code",
   "execution_count": 9,
   "metadata": {},
   "outputs": [],
   "source": [
    "from pyspark import SparkContext\n",
    "from pyspark.streaming import StreamingContext\n",
    "\n",
    "# (1)SparkContext     :  Main entry point for Spark functionality.\n",
    "#                        A SparkContext represents the connections to a Spark Cluster,\n",
    "#                        and can be used to create RDD and broadcast \n",
    "#                        variables on that cluster.\n",
    "# (2)StreamingContext :  Main entry point for Spark Streaming functionality.\n",
    "#                        A StreamingContext represents the connections to a Spark cluster,\n",
    "#                        and can be used to create DStream various input sources.\n",
    "# (3)socketTextSteam  : Create an input from TCP source hostname:prt\n",
    "#                       Data is received using a TCP socket and receive byte is interpreted \n",
    "#                       as UTF8 encoded '\\\\n' delimited lines.\n",
    "\n",
    "\n",
    "# Set up a twitter stream, and create the Spark socket stream\n",
    "# with the following lines. \n",
    "sc     = SparkContext()\n",
    "ssc    = StreamingContext(sc, batchDuration=10) \n",
    "socket_stream = ssc.socketTextStream('127.0.0.1', 555)"
   ]
  },
  {
   "cell_type": "markdown",
   "metadata": {},
   "source": [
    "### Example : text files as a Stream\n",
    "\n",
    "textFileStream(<i>dataDirectory</i>)\n",
    ": Creates an input stream from new text files that enter a specific directory.\n",
    "\n",
    " * dataDirectory : filepath for a folder with new files being added after the start of the stream\n",
    "   * Only the text format file applicable for Pyspark.\n"
   ]
  },
  {
   "cell_type": "code",
   "execution_count": 17,
   "metadata": {},
   "outputs": [],
   "source": [
    "def simple_text_to_stream(ssc):\n",
    "    ssc.textFileStream('/data').pprint()"
   ]
  },
  {
   "cell_type": "markdown",
   "metadata": {},
   "source": [
    "### Example : Queue of RDDs as a Stream\n",
    "\n",
    "queueStream(rdds, oneAtATime=True, default=None)\n",
    "\n",
    "Creates an input stream from an queue of RDDs or list. In each batch, it will process either one or all of the RDDs returned by the queue.\n",
    "\n",
    " * rdds       : Queue of RDDs\n",
    " * oneAtATime : pick one rdd each time or pick all of them once\n",
    " * default    : The default rdd if no more in rdds"
   ]
  },
  {
   "cell_type": "code",
   "execution_count": 18,
   "metadata": {},
   "outputs": [],
   "source": [
    "def simple_queue_one_at_a_time(ssc):\n",
    "    ssc.queueStream([range(5), ['a','b'], ['c']], \n",
    "                     oneAtATime=True).pprint()"
   ]
  }
 ],
 "metadata": {
  "kernelspec": {
   "display_name": "Python 3",
   "language": "python",
   "name": "python3"
  },
  "language_info": {
   "codemirror_mode": {
    "name": "ipython",
    "version": 3
   },
   "file_extension": ".py",
   "mimetype": "text/x-python",
   "name": "python",
   "nbconvert_exporter": "python",
   "pygments_lexer": "ipython3",
   "version": "3.7.1"
  },
  "latex_envs": {
   "LaTeX_envs_menu_present": true,
   "autoclose": false,
   "autocomplete": true,
   "bibliofile": "biblio.bib",
   "cite_by": "apalike",
   "current_citInitial": 1,
   "eqLabelWithNumbers": true,
   "eqNumInitial": 1,
   "hotkeys": {
    "equation": "Ctrl-E",
    "itemize": "Ctrl-I"
   },
   "labels_anchors": false,
   "latex_user_defs": false,
   "report_style_numbering": false,
   "user_envs_cfg": false
  }
 },
 "nbformat": 4,
 "nbformat_minor": 2
}
